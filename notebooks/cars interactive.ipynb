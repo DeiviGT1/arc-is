{
 "cells": [
  {
   "cell_type": "code",
   "execution_count": 109,
   "metadata": {},
   "outputs": [],
   "source": [
    "import pandas as pd\n",
    "import matplotlib.pyplot as plt\n",
    "import seaborn as sns\n",
    "from ipywidgets import interact\n",
    "from sklearn.preprocessing import LabelEncoder\n",
    "from wordcloud import WordCloud\n",
    "from IPython.display import clear_output\n",
    "import matplotlib.pyplot as plt\n",
    "import pandas as pd\n",
    "import matplotlib.ticker as mtick\n",
    "\n",
    "csv = pd.read_csv(\"car_prices.csv\")"
   ]
  },
  {
   "cell_type": "code",
   "execution_count": 157,
   "metadata": {},
   "outputs": [
    {
     "data": {
      "application/vnd.jupyter.widget-view+json": {
       "model_id": "95c190d22f6c44549223be7bd3566907",
       "version_major": 2,
       "version_minor": 0
      },
      "text/plain": [
       "interactive(children=(Dropdown(description='x', options=('model', 'year', 'color', 'state'), value='model'), D…"
      ]
     },
     "metadata": {},
     "output_type": "display_data"
    }
   ],
   "source": [
    "#Barchart\n",
    "@interact\n",
    "def barplot(x = csv.drop([\"make\", \"mileage\", \"price\", \"date\"], axis=1).columns, y = csv[[\"mileage\", \"price\"]].columns):\n",
    "\t\n",
    "\tclear_output(wait=True)\n",
    "\tdf = csv.groupby([\"make\", x]).sum([\"price\", \"mileage\"])\n",
    "\tdf.reset_index(inplace=True)\n",
    "\tdf = df.pivot(index=\"make\", columns=x, values=y)\n",
    "\tax = df.plot(kind=\"bar\", stacked=True, figsize=(10, 5), colormap=\"cividis\")\n",
    "\tax.yaxis.set_major_formatter(mtick.FuncFormatter(lambda x, pos: f\"{x:.0f}\"))\n",
    "\tplt.legend(loc='center left', bbox_to_anchor=(1.0, 0.5))\n",
    "\tplt.show()\n",
    "\n"
   ]
  },
  {
   "cell_type": "code",
   "execution_count": 3,
   "metadata": {},
   "outputs": [
    {
     "data": {
      "application/vnd.jupyter.widget-view+json": {
       "model_id": "94179c7d4eaf41d9870ac6e88d3eedbb",
       "version_major": 2,
       "version_minor": 0
      },
      "text/plain": [
       "interactive(children=(Dropdown(description='marca', options=('Chevrolet', 'Toyota', 'Nissan', 'Ford', 'Honda')…"
      ]
     },
     "metadata": {},
     "output_type": "display_data"
    }
   ],
   "source": [
    "#Wordcloud\n",
    "@interact\n",
    "def wcplot(marca = csv[\"make\"].unique()):\n",
    "\tclear_output(wait=True)\n",
    "\ttexto = \" \".join([mod for mod in csv[csv[\"make\"]==marca][\"model\"]])\n",
    "\twc = WordCloud(\n",
    "\t\t\n",
    "\t\twidth=1500,\n",
    "\t\theight=1000,\n",
    "\t\trandom_state=1,\n",
    "\t\tbackground_color=\"black\",\n",
    "\t\tcolormap=\"Blues_r\",\n",
    "\t\tcollocations=False\n",
    "\t\t\n",
    "\t).generate(text=texto)\n",
    "\tplt.imshow(wc)\n",
    "\tplt.axis('off')\n",
    "\tplt.show()"
   ]
  },
  {
   "cell_type": "code",
   "execution_count": 111,
   "metadata": {},
   "outputs": [
    {
     "data": {
      "application/vnd.jupyter.widget-view+json": {
       "model_id": "dfbe4f8b22b945b7ae345ac0d1407a04",
       "version_major": 2,
       "version_minor": 0
      },
      "text/plain": [
       "interactive(children=(Dropdown(description='x', options=('Chevrolet', 'Toyota', 'Nissan', 'Ford', 'Honda'), va…"
      ]
     },
     "metadata": {},
     "output_type": "display_data"
    }
   ],
   "source": [
    "#Time series\n",
    "@interact\n",
    "def line_date_plot(x=csv[\"make\"].unique(), y=csv[[\"mileage\", \"price\"]].columns, fecha = [\"Yearly\", \"Monthly\", \"Daily\"], hue = csv.drop([\"make\", \"mileage\", \"price\", \"date\", \"year\"], axis=1).columns):\n",
    "  clear_output(wait=True)\n",
    "  dic = {\n",
    "    \"Yearly\": \"%Y\",\n",
    "    \"Monthly\": \"%Y-%m\",\n",
    "    \"Daily\": \"%d\"\n",
    "  }\n",
    "  df = csv[csv[\"make\"]==x]\n",
    "  df=df.assign(date=pd.to_datetime(df['date']).dt.date)\n",
    "  df[\"group\"] = df[\"date\"].apply(lambda x: x.strftime(f\"{dic[fecha]}\"))\n",
    "  df.sort_values(by=\"group\", inplace=True)\n",
    "  plt.figure(figsize=(23, 5))\n",
    "  #I want legend on the right bottom\n",
    "  sns.lineplot(data=df, x=\"group\", y=y, palette=\"cividis\", hue=hue, linewidth=2.5, ci=25, linestyle=\"dashed\")\n",
    "  plt.legend(loc='upper left', bbox_to_anchor=(1.0, 0.5))\n",
    "  plt.show()\n",
    "  \n",
    "  "
   ]
  },
  {
   "cell_type": "code",
   "execution_count": null,
   "metadata": {},
   "outputs": [],
   "source": [
    "#Correlation\n",
    "\n",
    "\n",
    "df = csv.copy()\n",
    "df.drop([\"date\", \"price\"], axis=1, inplace=True)\n",
    "le = LabelEncoder()\n",
    "for col in df.columns:\n",
    "  df[col] = le.fit_transform(df[col])\n",
    "plt.figure(figsize=(10, 10))\n",
    "sns.heatmap(df.corr(), annot=True)\n",
    "plt.show()"
   ]
  },
  {
   "cell_type": "code",
   "execution_count": 176,
   "metadata": {},
   "outputs": [
    {
     "data": {
      "application/vnd.jupyter.widget-view+json": {
       "model_id": "7513c2ed37bb4a969f4cd97bea4a24b3",
       "version_major": 2,
       "version_minor": 0
      },
      "text/plain": [
       "interactive(children=(Dropdown(description='By', options=('make', 'model', 'color', 'state'), value='make'), O…"
      ]
     },
     "metadata": {},
     "output_type": "display_data"
    }
   ],
   "source": [
    "#Boxplot\n",
    "@interact\n",
    "def bp(By = csv.drop([\"mileage\", \"price\", \"date\", \"year\"], axis=1).columns.to_list()):\n",
    "  clear_output(wait=True)\n",
    "  df = csv.copy()\n",
    "  df = df.groupby(By).mean(\"price\")\n",
    "  df.reset_index(inplace=True)\n",
    "  df.sort_values(by=\"price\", inplace=True)\n",
    "  plt.figure(figsize=(10, 10))\n",
    "  sns.boxplot(data=csv, x=By, y=\"price\")\n",
    "  plt.show()\n"
   ]
  },
  {
   "cell_type": "code",
   "execution_count": null,
   "metadata": {},
   "outputs": [],
   "source": []
  }
 ],
 "metadata": {
  "kernelspec": {
   "display_name": "Python 3.9.6 ('venv': venv)",
   "language": "python",
   "name": "python3"
  },
  "language_info": {
   "codemirror_mode": {
    "name": "ipython",
    "version": 3
   },
   "file_extension": ".py",
   "mimetype": "text/x-python",
   "name": "python",
   "nbconvert_exporter": "python",
   "pygments_lexer": "ipython3",
   "version": "3.8.8"
  },
  "vscode": {
   "interpreter": {
    "hash": "2c2b3f89e89d7a111b022775206825f3a0e44b90bd73e1dce056c65afcd4b355"
   }
  }
 },
 "nbformat": 4,
 "nbformat_minor": 2
}
