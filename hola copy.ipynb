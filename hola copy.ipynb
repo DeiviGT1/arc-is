{
 "cells": [
  {
   "cell_type": "code",
   "execution_count": 1,
   "metadata": {},
   "outputs": [
    {
     "data": {
      "text/plain": [
       "True"
      ]
     },
     "execution_count": 1,
     "metadata": {},
     "output_type": "execute_result"
    }
   ],
   "source": [
    "import pandas as pd\n",
    "from dotenv import load_dotenv\n",
    "import geopandas as gpd\n",
    "import matplotlib.pyplot as plt\n",
    "from operator import itemgetter\n",
    "\n",
    "load_dotenv()"
   ]
  },
  {
   "cell_type": "code",
   "execution_count": 2,
   "metadata": {},
   "outputs": [],
   "source": [
    "# map_data = gpd.read_file(\"file.geojson\")\n",
    "zip_map = gpd.read_file(\"fl_florida_zip_codes_geo.min.json\")\n",
    "zip_codes = pd.read_csv(\"zip_code_database.csv\")\n",
    "neighborhood_map = gpd.read_file(\"Miami_Neighborhoods_Shapefile (1).geojson\")\n",
    "csv = pd.read_csv(\"miami-housing.csv\")"
   ]
  },
  {
   "cell_type": "code",
   "execution_count": 3,
   "metadata": {},
   "outputs": [],
   "source": [
    "zip_codes = zip_codes[[\"primary_city\", \"state\", \"county\", \"timezone\", \"area_codes\", \"country\", \"zip\"]]\n",
    "zip_codes[\"county, state\"] = zip_codes[\"county\"] + \", \" + zip_codes[\"state\"]\n",
    "zip_map[\"ZCTA5CE10\"] = zip_map[\"ZCTA5CE10\"].astype(int)\n",
    "zip_map[\"INTPTLON10\"] = zip_map[\"INTPTLON10\"].astype(float)\n",
    "zip_map[\"INTPTLAT10\"] = zip_map[\"INTPTLAT10\"].astype(float)\n",
    "zip_map = zip_map.merge(zip_codes, how=\"left\", left_on=\"ZCTA5CE10\", right_on=\"zip\")\n",
    "zip_map = zip_map.drop(columns=zip_map.columns[zip_map.nunique()==1], index=0)\n",
    "zip_map = zip_map.dropna(axis=1)\n",
    "zip_map = zip_map.drop(columns=[\"ZCTA5CE10\"])\n",
    "zip_map[\"zip\"] = zip_map[\"zip\"].astype(str)\n"
   ]
  },
  {
   "cell_type": "code",
   "execution_count": 4,
   "metadata": {},
   "outputs": [],
   "source": [
    "zip_map = zip_map[zip_map[\"primary_city\"]==\"Miami\"]\n",
    "neighborhood_map = neighborhood_map.drop(columns=([\"Shape__Length\", \"Shape__Area\"]), axis=1)\n",
    "\n",
    "bounds = neighborhood_map.geometry.apply(lambda x: x.bounds).tolist()\n",
    "minx_neighborhoods, miny_neighborhoods, maxx_neighborhoods, maxy_neighborhoods = min(bounds, key=itemgetter(0))[0], min(bounds, key=itemgetter(1))[1], max(bounds, key=itemgetter(2))[2], max(bounds, key=itemgetter(3))[3]"
   ]
  },
  {
   "cell_type": "code",
   "execution_count": null,
   "metadata": {},
   "outputs": [],
   "source": [
    "fig, ax = plt.subplots(figsize=(20,5))\n",
    "\n",
    "\n",
    "zip_map.plot(ax=ax, color=\"white\", edgecolor=\"black\")\n",
    "plt.scatter(csv[\"LONGITUDE\"], csv[\"LATITUDE\"], marker='.', color=\"red\")\n",
    "ax.scatter(zip_map[\"INTPTLON10\"], zip_map[\"INTPTLAT10\"], marker='o', color=\"green\")"
   ]
  },
  {
   "cell_type": "code",
   "execution_count": null,
   "metadata": {},
   "outputs": [],
   "source": [
    "\n",
    "\n",
    "fig, ax = plt.subplots(figsize=(20,5))\n",
    "# zip_map.plot(ax=ax, )\n",
    "\n",
    "neighborhood_map.plot(ax=ax, color=\"white\", edgecolor=\"black\")\n",
    "plt.scatter(csv[\"LONGITUDE\"], csv[\"LATITUDE\"], c= csv[\"WATER_DIST\"], marker='.', alpha=0.9)\n"
   ]
  },
  {
   "cell_type": "code",
   "execution_count": null,
   "metadata": {},
   "outputs": [],
   "source": [
    "fig, ax = plt.subplots(figsize=(20,5))\n",
    "zip_map.plot(color=\"gray\", edgecolor=\"green\", ax=ax)\n",
    "neighborhood_map.plot(color=\"white\", edgecolor=\"black\", ax=ax)\n"
   ]
  },
  {
   "cell_type": "code",
   "execution_count": 10,
   "metadata": {},
   "outputs": [],
   "source": [
    "max_latitude = maxy_neighborhoods #25.75\n",
    "max_longitude = maxx_neighborhoods #-80.1\n",
    "min_latitude =  miny_neighborhoods #25.62\n",
    "min_longitude =  minx_neighborhoods #-80.35\n",
    "\n",
    "csv = csv[(csv[\"LATITUDE\"]<max_latitude)&(csv[\"LATITUDE\"]>min_latitude)&(csv[\"LONGITUDE\"]<max_longitude)&(csv[\"LONGITUDE\"]>min_longitude)]\n"
   ]
  },
  {
   "cell_type": "code",
   "execution_count": 5,
   "metadata": {},
   "outputs": [
    {
     "name": "stderr",
     "output_type": "stream",
     "text": [
      "C:\\Users\\jgonzalezt\\AppData\\Local\\Temp\\ipykernel_29248\\3359463069.py:6: FutureWarning: The default value of numeric_only in DataFrameGroupBy.mean is deprecated. In a future version, numeric_only will default to False. Either specify numeric_only or select only columns which should be valid for the function.\n",
      "  by_state = csv.groupby(\"state\").mean()\n"
     ]
    },
    {
     "data": {
      "text/plain": [
       "<BarContainer object of 5 artists>"
      ]
     },
     "execution_count": 5,
     "metadata": {},
     "output_type": "execute_result"
    },
    {
     "data": {
      "image/png": "[encoded data removed]",
      "text/plain": [
       "<Figure size 640x480 with 1 Axes>"
      ]
     },
     "metadata": {},
     "output_type": "display_data"
    }
   ],
   "source": [
    "import pandas as pd\n",
    "import matplotlib.pyplot as plt\n",
    "\n",
    "csv = pd.read_csv(\"car_prices.csv\")\n",
    "csv = csv[(csv[\"year\"]>=2015)]\n",
    "by_state = csv.groupby(\"state\").mean()\n",
    "by_state[\"count\"] = csv.groupby(\"state\").count()[\"price\"]\n",
    "by_state = by_state.sort_values(by=\"price\", ascending=False)\n",
    "plt.barh(\n",
    "  by_state.index,\n",
    "  by_state[\"price\"].values,\n",
    "  color=\"green\",\n",
    ")"
   ]
  },
  {
   "cell_type": "code",
   "execution_count": 6,
   "metadata": {},
   "outputs": [
    {
     "name": "stderr",
     "output_type": "stream",
     "text": [
      "C:\\Users\\jgonzalezt\\AppData\\Local\\Temp\\ipykernel_29248\\1033852788.py:1: FutureWarning: The default value of numeric_only in DataFrameGroupBy.mean is deprecated. In a future version, numeric_only will default to False. Either specify numeric_only or select only columns which should be valid for the function.\n",
      "  by_brand = csv.groupby(\"make\").mean()\n"
     ]
    },
    {
     "data": {
      "text/plain": [
       "<BarContainer object of 5 artists>"
      ]
     },
     "execution_count": 6,
     "metadata": {},
     "output_type": "execute_result"
    },
    {
     "data": {
      "image/png": "[encoded data removed]",
      "text/plain": [
       "<Figure size 640x480 with 1 Axes>"
      ]
     },
     "metadata": {},
     "output_type": "display_data"
    }
   ],
   "source": [
    "by_brand = csv.groupby(\"make\").mean()\n",
    "by_brand[\"count\"] = csv.groupby(\"make\").count()[\"price\"]\n",
    "by_brand = by_brand.sort_values(by=\"price\", ascending=False)\n",
    "plt.barh(\n",
    "  by_brand.index,\n",
    "  by_brand[\"price\"].values,\n",
    "  color=\"orange\",\n",
    ")\n"
   ]
  },
  {
   "cell_type": "code",
   "execution_count": 99,
   "metadata": {},
   "outputs": [],
   "source": []
  },
  {
   "cell_type": "code",
   "execution_count": 138,
   "metadata": {},
   "outputs": [
    {
     "data": {
      "text/html": [
       "<div>\n",
       "<style scoped>\n",
       "    .dataframe tbody tr th:only-of-type {\n",
       "        vertical-align: middle;\n",
       "    }\n",
       "\n",
       "    .dataframe tbody tr th {\n",
       "        vertical-align: top;\n",
       "    }\n",
       "\n",
       "    .dataframe thead th {\n",
       "        text-align: right;\n",
       "    }\n",
       "</style>\n",
       "<table border=\"1\" class=\"dataframe\">\n",
       "  <thead>\n",
       "    <tr style=\"text-align: right;\">\n",
       "      <th></th>\n",
       "      <th>make</th>\n",
       "      <th>model</th>\n",
       "      <th>year</th>\n",
       "      <th>mileage</th>\n",
       "      <th>price</th>\n",
       "      <th>color</th>\n",
       "      <th>state</th>\n",
       "      <th>date</th>\n",
       "    </tr>\n",
       "  </thead>\n",
       "  <tbody>\n",
       "    <tr>\n",
       "      <th>0</th>\n",
       "      <td>Chevrolet</td>\n",
       "      <td>Cruze</td>\n",
       "      <td>2011</td>\n",
       "      <td>99157</td>\n",
       "      <td>37488</td>\n",
       "      <td>white</td>\n",
       "      <td>TX</td>\n",
       "      <td>2023-09-26 23:02:01.647970</td>\n",
       "    </tr>\n",
       "    <tr>\n",
       "      <th>1</th>\n",
       "      <td>Toyota</td>\n",
       "      <td>Cruze</td>\n",
       "      <td>2017</td>\n",
       "      <td>19882</td>\n",
       "      <td>34176</td>\n",
       "      <td>red</td>\n",
       "      <td>IL</td>\n",
       "      <td>2023-08-08 23:02:01.648413</td>\n",
       "    </tr>\n",
       "    <tr>\n",
       "      <th>2</th>\n",
       "      <td>Chevrolet</td>\n",
       "      <td>Altima</td>\n",
       "      <td>2011</td>\n",
       "      <td>77718</td>\n",
       "      <td>40297</td>\n",
       "      <td>blue</td>\n",
       "      <td>CA</td>\n",
       "      <td>2023-02-25 23:02:01.648422</td>\n",
       "    </tr>\n",
       "    <tr>\n",
       "      <th>3</th>\n",
       "      <td>Nissan</td>\n",
       "      <td>Fusion</td>\n",
       "      <td>2012</td>\n",
       "      <td>83613</td>\n",
       "      <td>43492</td>\n",
       "      <td>silver</td>\n",
       "      <td>TX</td>\n",
       "      <td>2023-04-25 23:02:01.648425</td>\n",
       "    </tr>\n",
       "    <tr>\n",
       "      <th>4</th>\n",
       "      <td>Ford</td>\n",
       "      <td>Cruze</td>\n",
       "      <td>2016</td>\n",
       "      <td>95349</td>\n",
       "      <td>26655</td>\n",
       "      <td>red</td>\n",
       "      <td>NY</td>\n",
       "      <td>2023-12-14 23:02:01.648426</td>\n",
       "    </tr>\n",
       "    <tr>\n",
       "      <th>...</th>\n",
       "      <td>...</td>\n",
       "      <td>...</td>\n",
       "      <td>...</td>\n",
       "      <td>...</td>\n",
       "      <td>...</td>\n",
       "      <td>...</td>\n",
       "      <td>...</td>\n",
       "      <td>...</td>\n",
       "    </tr>\n",
       "    <tr>\n",
       "      <th>9995</th>\n",
       "      <td>Honda</td>\n",
       "      <td>Altima</td>\n",
       "      <td>2017</td>\n",
       "      <td>25154</td>\n",
       "      <td>43139</td>\n",
       "      <td>red</td>\n",
       "      <td>FL</td>\n",
       "      <td>2023-10-07 23:02:01.650165</td>\n",
       "    </tr>\n",
       "    <tr>\n",
       "      <th>9996</th>\n",
       "      <td>Chevrolet</td>\n",
       "      <td>Accord</td>\n",
       "      <td>2017</td>\n",
       "      <td>68264</td>\n",
       "      <td>15632</td>\n",
       "      <td>white</td>\n",
       "      <td>TX</td>\n",
       "      <td>2024-01-05 23:02:01.650166</td>\n",
       "    </tr>\n",
       "    <tr>\n",
       "      <th>9997</th>\n",
       "      <td>Nissan</td>\n",
       "      <td>Cruze</td>\n",
       "      <td>2016</td>\n",
       "      <td>17417</td>\n",
       "      <td>30832</td>\n",
       "      <td>silver</td>\n",
       "      <td>IL</td>\n",
       "      <td>2023-03-29 23:02:01.650168</td>\n",
       "    </tr>\n",
       "    <tr>\n",
       "      <th>9998</th>\n",
       "      <td>Honda</td>\n",
       "      <td>Accord</td>\n",
       "      <td>2011</td>\n",
       "      <td>68878</td>\n",
       "      <td>10801</td>\n",
       "      <td>blue</td>\n",
       "      <td>TX</td>\n",
       "      <td>2023-05-02 23:02:01.650170</td>\n",
       "    </tr>\n",
       "    <tr>\n",
       "      <th>9999</th>\n",
       "      <td>Chevrolet</td>\n",
       "      <td>Cruze</td>\n",
       "      <td>2010</td>\n",
       "      <td>99313</td>\n",
       "      <td>31827</td>\n",
       "      <td>black</td>\n",
       "      <td>CA</td>\n",
       "      <td>2023-08-13 23:02:01.650171</td>\n",
       "    </tr>\n",
       "  </tbody>\n",
       "</table>\n",
       "<p>10000 rows × 8 columns</p>\n",
       "</div>"
      ],
      "text/plain": [
       "           make   model  year  mileage  price   color state  \\\n",
       "0     Chevrolet   Cruze  2011    99157  37488   white    TX   \n",
       "1        Toyota   Cruze  2017    19882  34176     red    IL   \n",
       "2     Chevrolet  Altima  2011    77718  40297    blue    CA   \n",
       "3        Nissan  Fusion  2012    83613  43492  silver    TX   \n",
       "4          Ford   Cruze  2016    95349  26655     red    NY   \n",
       "...         ...     ...   ...      ...    ...     ...   ...   \n",
       "9995      Honda  Altima  2017    25154  43139     red    FL   \n",
       "9996  Chevrolet  Accord  2017    68264  15632   white    TX   \n",
       "9997     Nissan   Cruze  2016    17417  30832  silver    IL   \n",
       "9998      Honda  Accord  2011    68878  10801    blue    TX   \n",
       "9999  Chevrolet   Cruze  2010    99313  31827   black    CA   \n",
       "\n",
       "                            date  \n",
       "0     2023-09-26 23:02:01.647970  \n",
       "1     2023-08-08 23:02:01.648413  \n",
       "2     2023-02-25 23:02:01.648422  \n",
       "3     2023-04-25 23:02:01.648425  \n",
       "4     2023-12-14 23:02:01.648426  \n",
       "...                          ...  \n",
       "9995  2023-10-07 23:02:01.650165  \n",
       "9996  2024-01-05 23:02:01.650166  \n",
       "9997  2023-03-29 23:02:01.650168  \n",
       "9998  2023-05-02 23:02:01.650170  \n",
       "9999  2023-08-13 23:02:01.650171  \n",
       "\n",
       "[10000 rows x 8 columns]"
      ]
     },
     "execution_count": 138,
     "metadata": {},
     "output_type": "execute_result"
    }
   ],
   "source": [
    "csv"
   ]
  },
  {
   "cell_type": "code",
   "execution_count": 5,
   "metadata": {},
   "outputs": [
    {
     "data": {
      "application/vnd.jupyter.widget-view+json": {
       "model_id": "5a830b783b5845a4b7ddee6ca470be48",
       "version_major": 2,
       "version_minor": 0
      },
      "text/plain": [
       "interactive(children=(Dropdown(description='x', options=('model', 'year', 'color', 'state', 'date'), value='mo…"
      ]
     },
     "metadata": {},
     "output_type": "display_data"
    }
   ],
   "source": [
    "import seaborn as sns\n",
    "from ipywidgets import interact\n",
    "from IPython.display import clear_output\n",
    "import pandas as pd\n",
    "import matplotlib.ticker as mtick\n",
    "\n",
    "csv = pd.read_csv(\"car_prices.csv\")\n",
    "\n",
    "@interact\n",
    "def barplot(x = csv.drop([\"make\", \"mileage\", \"price\"], axis=1).columns, y = csv[[\"mileage\", \"price\"]].columns):\n",
    "  clear_output(wait=True)\n",
    "  df = csv.groupby([\"make\", x]).sum([\"price\", \"mileage\"])\n",
    "  df.reset_index(inplace=True)\n",
    "  df = df.pivot(index=\"make\", columns=x, values=y)\n",
    "  ax = df.plot(kind=\"bar\", stacked=True, figsize=(10, 5), colormap=\"cividis\")\n",
    "  ax.yaxis.set_major_formatter(mtick.FuncFormatter(lambda x, pos: f\"{x:.0f}\"))\n",
    "  plt.legend(loc='center left', bbox_to_anchor=(1.0, 0.5))\n",
    "  plt.show()\n",
    "\n"
   ]
  },
  {
   "cell_type": "code",
   "execution_count": 6,
   "metadata": {},
   "outputs": [],
   "source": [
    "import matplotlib.pyplot as plt\n",
    "from wordcloud import WordCloud, STOPWORDS\n",
    "\n",
    "# Texto de ejemplo\n",
    "texto = \" \".join([mod for mod in csv[\"model\"]])\n",
    "\n",
    "# Crear un objeto WordCloud\n",
    "word_cloud = WordCloud(\n",
    "        width=3000,\n",
    "        height=2000,\n",
    "        random_state=1,\n",
    "        background_color=\"salmon\",\n",
    "        colormap=\"Pastel1\",\n",
    "        collocations=False,\n",
    "        stopwords=STOPWORDS,\n",
    "        ).generate(text=texto)\n"
   ]
  },
  {
   "cell_type": "code",
   "execution_count": 7,
   "metadata": {},
   "outputs": [
    {
     "data": {
      "image/png": "[encoded data removed]",
      "text/plain": [
       "<Figure size 640x480 with 1 Axes>"
      ]
     },
     "metadata": {},
     "output_type": "display_data"
    }
   ],
   "source": [
    "plt.imshow(word_cloud)\n",
    "plt.axis(\"off\")\n",
    "plt.show()"
   ]
  }
 ],
 "metadata": {
  "kernelspec": {
   "display_name": "Python 3",
   "language": "python",
   "name": "python3"
  },
  "language_info": {
   "codemirror_mode": {
    "name": "ipython",
    "version": 3
   },
   "file_extension": ".py",
   "mimetype": "text/x-python",
   "name": "python",
   "nbconvert_exporter": "python",
   "pygments_lexer": "ipython3",
   "version": "3.8.8"
  },
  "vscode": {
   "interpreter": {
    "hash": "3774e9ff912d0caab0e8d453f09071c17bffead4467932fcced328daa290efe8"
   }
  }
 },
 "nbformat": 4,
 "nbformat_minor": 2
}
