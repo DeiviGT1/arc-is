{
 "cells": [
  {
   "cell_type": "code",
   "execution_count": 42,
   "metadata": {},
   "outputs": [],
   "source": [
    "import pandas as pd\n",
    "from dotenv import load_dotenv\n",
    "import geopandas as gpd\n",
    "import matplotlib.pyplot as plt\n",
    "from operator import itemgetter\n",
    "import seaborn as sns\n",
    "from ipywidgets import interact\n",
    "from wordcloud import WordCloud\n",
    "from IPython.display import clear_output\n",
    "import matplotlib.pyplot as plt\n",
    "import pandas as pd\n",
    "import matplotlib.ticker as mtick\n",
    "\n",
    "csv = pd.read_csv(\"car_prices.csv\")"
   ]
  },
  {
   "cell_type": "code",
   "execution_count": 4,
   "metadata": {},
   "outputs": [
    {
     "data": {
      "application/vnd.jupyter.widget-view+json": {
       "model_id": "165bb6f5f02e423dba692345162b726c",
       "version_major": 2,
       "version_minor": 0
      },
      "text/plain": [
       "interactive(children=(Dropdown(description='x', options=('model', 'year', 'color', 'state'), value='model'), D…"
      ]
     },
     "metadata": {},
     "output_type": "display_data"
    }
   ],
   "source": [
    "\n",
    "\n",
    "@interact\n",
    "def barplot(x = csv.drop([\"make\", \"mileage\", \"price\", \"date\"], axis=1).columns, y = csv[[\"mileage\", \"price\"]].columns):\n",
    "\t\n",
    "\tclear_output(wait=True)\n",
    "\tdf = csv.groupby([\"make\", x]).sum([\"price\", \"mileage\"])\n",
    "\tdf.reset_index(inplace=True)\n",
    "\tdf = df.pivot(index=\"make\", columns=x, values=y)\n",
    "\tax = df.plot(kind=\"bar\", stacked=True, figsize=(10, 5), colormap=\"cividis\")\n",
    "\tax.yaxis.set_major_formatter(mtick.FuncFormatter(lambda x, pos: f\"{x:.0f}\"))\n",
    "\tplt.legend(loc='center left', bbox_to_anchor=(1.0, 0.5))\n",
    "\tplt.show()\n",
    "\n"
   ]
  },
  {
   "cell_type": "code",
   "execution_count": 36,
   "metadata": {},
   "outputs": [
    {
     "data": {
      "application/vnd.jupyter.widget-view+json": {
       "model_id": "6350a08075be4bf9863283fa32fca61c",
       "version_major": 2,
       "version_minor": 0
      },
      "text/plain": [
       "interactive(children=(Dropdown(description='marca', options=('Chevrolet', 'Toyota', 'Nissan', 'Ford', 'Honda')…"
      ]
     },
     "metadata": {},
     "output_type": "display_data"
    }
   ],
   "source": [
    "@interact\n",
    "def wcplot(marca = csv[\"make\"].unique()):\n",
    "\tclear_output(wait=True)\n",
    "\ttexto = \" \".join([mod for mod in csv[csv[\"make\"]==marca][\"model\"]])\n",
    "\twc = WordCloud(\n",
    "\t\t\n",
    "\t\twidth=1500,\n",
    "\t\theight=1000,\n",
    "\t\trandom_state=1,\n",
    "\t\tbackground_color=\"black\",\n",
    "\t\tcolormap=\"Blues_r\",\n",
    "\t\tcollocations=False\n",
    "\t\t).generate(text=texto)\n",
    "\t\tplt.imshow(wc)\n",
    "\t\tplt.axis('off')\n",
    "\t\tplt.show()"
   ]
  }
 ],
 "metadata": {
  "kernelspec": {
   "display_name": "Python 3.9.6 ('venv': venv)",
   "language": "python",
   "name": "python3"
  },
  "language_info": {
   "codemirror_mode": {
    "name": "ipython",
    "version": 3
   },
   "file_extension": ".py",
   "mimetype": "text/x-python",
   "name": "python",
   "nbconvert_exporter": "python",
   "pygments_lexer": "ipython3",
   "version": "3.9.6"
  },
  "vscode": {
   "interpreter": {
    "hash": "2c2b3f89e89d7a111b022775206825f3a0e44b90bd73e1dce056c65afcd4b355"
   }
  }
 },
 "nbformat": 4,
 "nbformat_minor": 2
}
